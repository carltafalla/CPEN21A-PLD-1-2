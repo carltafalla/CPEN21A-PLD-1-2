{
  "nbformat": 4,
  "nbformat_minor": 0,
  "metadata": {
    "colab": {
      "provenance": [],
      "authorship_tag": "ABX9TyOGaJwVBAjkGF6R5jWTh3oh",
      "include_colab_link": true
    },
    "kernelspec": {
      "name": "python3",
      "display_name": "Python 3"
    },
    "language_info": {
      "name": "python"
    }
  },
  "cells": [
    {
      "cell_type": "markdown",
      "metadata": {
        "id": "view-in-github",
        "colab_type": "text"
      },
      "source": [
        "<a href=\"https://colab.research.google.com/github/carltafalla/CPEN21A-PLD-1-2/blob/main/Object_and_Class.ipynb\" target=\"_parent\"><img src=\"https://colab.research.google.com/assets/colab-badge.svg\" alt=\"Open In Colab\"/></a>"
      ]
    },
    {
      "cell_type": "code",
      "execution_count": null,
      "metadata": {
        "colab": {
          "base_uri": "https://localhost:8080/"
        },
        "id": "xLQ1yCBnBD9T",
        "outputId": "3fae2405-9d9e-458d-f644-9865b29151c7"
      },
      "outputs": [
        {
          "output_type": "stream",
          "name": "stdout",
          "text": [
            "My name is: Carl Lexster\n",
            "My age is: 20\n",
            "My birthdate is: November 19,2002\n",
            "My personal info are all here\n"
          ]
        }
      ],
      "source": [
        "class Person:\n",
        "  def __init__(self,name,age,birthdate):      #object and class constructor\n",
        "    self.name = name\n",
        "    self.age = age\n",
        "    self.birthdate = birthdate\n",
        "\n",
        "  def info(self):\n",
        "    return \"My personal info are all here\"    #method constructor\n",
        "\n",
        "class Student(Person):                        #inheritance\n",
        "  pass\n",
        "\n",
        "person = Person(\"Carl Lexster\",20,\"November 19,2002\") #naming object\n",
        "print(\"My name is:\",person.name)\n",
        "print(\"My age is:\",person.age)\n",
        "print(\"My birthdate is:\",person.birthdate)\n",
        "print(person.info())"
      ]
    },
    {
      "cell_type": "code",
      "source": [
        "#Exercise 1\n",
        "# Write a Python program that:\n",
        "# Use Shape as parent class, Rectangle as child class with length and width attributes\n",
        "# Use Perimeter() and Area() as methods to compute for the perimeter and area of the rectangle\n",
        "\n",
        "class Shape:\n",
        "    def __init__(self):\n",
        "        pass\n",
        "\n",
        "class Rectangle(Shape):\n",
        "    def __init__(self, length, width):\n",
        "        self.length = length\n",
        "        self.width = width\n",
        "    \n",
        "    def perimeter(self):\n",
        "        return 2 * (self.length + self.width)\n",
        "    \n",
        "    def area(self):\n",
        "        return self.length * self.width\n",
        "\n",
        "rectangle = Rectangle(5, 10)\n",
        "print(\"Perimeter:\", rectangle.perimeter())\n",
        "print(\"Area:\", rectangle.area())\n"
      ],
      "metadata": {
        "id": "3XB9h_4tEQjc",
        "colab": {
          "base_uri": "https://localhost:8080/"
        },
        "outputId": "2207dd5f-b7c0-444a-9557-389860cf8fbb"
      },
      "execution_count": 8,
      "outputs": [
        {
          "output_type": "stream",
          "name": "stdout",
          "text": [
            "Perimeter: 30\n",
            "Area: 50\n"
          ]
        }
      ]
    }
  ]
}