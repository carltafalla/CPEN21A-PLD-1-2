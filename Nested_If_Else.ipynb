{
  "nbformat": 4,
  "nbformat_minor": 0,
  "metadata": {
    "colab": {
      "provenance": [],
      "authorship_tag": "ABX9TyPZlQJ6aOeJ/2LQeLB17gPy",
      "include_colab_link": true
    },
    "kernelspec": {
      "name": "python3",
      "display_name": "Python 3"
    },
    "language_info": {
      "name": "python"
    }
  },
  "cells": [
    {
      "cell_type": "markdown",
      "metadata": {
        "id": "view-in-github",
        "colab_type": "text"
      },
      "source": [
        "<a href=\"https://colab.research.google.com/github/carltafalla/CPEN21A-PLD-1-2/blob/main/Nested_If_Else.ipynb\" target=\"_parent\"><img src=\"https://colab.research.google.com/assets/colab-badge.svg\" alt=\"Open In Colab\"/></a>"
      ]
    },
    {
      "cell_type": "markdown",
      "source": [
        "Example #1"
      ],
      "metadata": {
        "id": "RBBgJfQyf9PB"
      }
    },
    {
      "cell_type": "code",
      "source": [
        "\n",
        "print(\"Input your Age\")\n",
        "x = int(input())\n",
        "if x<18:\n",
        "  print(\"Not qualified to vote\")\n",
        "else:\n",
        "  print(\"qualified to vote\")\n"
      ],
      "metadata": {
        "colab": {
          "base_uri": "https://localhost:8080/"
        },
        "id": "62qcDAMSgGT4",
        "outputId": "41e00d9c-9c69-4370-a755-b2f9db1982fe"
      },
      "execution_count": null,
      "outputs": [
        {
          "output_type": "stream",
          "name": "stdout",
          "text": [
            "Input your Age\n",
            "18\n",
            "qualified to vote\n"
          ]
        }
      ]
    },
    {
      "cell_type": "markdown",
      "source": [
        "Example #2"
      ],
      "metadata": {
        "id": "CQP4zGsmgGwQ"
      }
    },
    {
      "cell_type": "code",
      "source": [
        "print(\"Input the number\")\n",
        "x = int(input())\n",
        "if x>0:\n",
        "  print(\"Positve\")\n",
        "elif x==0:\n",
        "  print(\"Zero\")\n",
        "else:\n",
        "  print(\"Negative\")"
      ],
      "metadata": {
        "colab": {
          "base_uri": "https://localhost:8080/"
        },
        "id": "_X4uDMX2gJhh",
        "outputId": "7e04df6c-3fb9-4b7c-8875-6c983e5e773b"
      },
      "execution_count": null,
      "outputs": [
        {
          "output_type": "stream",
          "name": "stdout",
          "text": [
            "Input the number\n",
            "16\n",
            "Positve\n"
          ]
        }
      ]
    },
    {
      "cell_type": "markdown",
      "source": [
        "Example #3"
      ],
      "metadata": {
        "id": "6UvdkNuFgKES"
      }
    },
    {
      "cell_type": "code",
      "source": [
        "print(\"Input your grade\")\n",
        "x = int(input())\n",
        "if x>=75:\n",
        "  print(\"Passed\")\n",
        "elif x==74:\n",
        "    print(\"Remedial\")\n",
        "elif x<0: \n",
        "  raise ValueError\n",
        "else:\n",
        "  print(\"Failed\")"
      ],
      "metadata": {
        "colab": {
          "base_uri": "https://localhost:8080/"
        },
        "id": "5jkc0tk0gMDg",
        "outputId": "bfe5ed8f-820e-4433-e979-f1d00e1cf475"
      },
      "execution_count": 98,
      "outputs": [
        {
          "output_type": "stream",
          "name": "stdout",
          "text": [
            "Input your grade\n",
            "90\n",
            "Passed\n"
          ]
        }
      ]
    }
  ]
}