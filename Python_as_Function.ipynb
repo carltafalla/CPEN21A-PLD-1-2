{
  "nbformat": 4,
  "nbformat_minor": 0,
  "metadata": {
    "colab": {
      "provenance": [],
      "authorship_tag": "ABX9TyMe5cuLzMr8Xy9FpQVdu50H",
      "include_colab_link": true
    },
    "kernelspec": {
      "name": "python3",
      "display_name": "Python 3"
    },
    "language_info": {
      "name": "python"
    }
  },
  "cells": [
    {
      "cell_type": "markdown",
      "metadata": {
        "id": "view-in-github",
        "colab_type": "text"
      },
      "source": [
        "<a href=\"https://colab.research.google.com/github/carltafalla/CPEN21A-PLD-1-2/blob/main/Python_as_Function.ipynb\" target=\"_parent\"><img src=\"https://colab.research.google.com/assets/colab-badge.svg\" alt=\"Open In Colab\"/></a>"
      ]
    },
    {
      "cell_type": "code",
      "execution_count": 2,
      "metadata": {
        "colab": {
          "base_uri": "https://localhost:8080/"
        },
        "id": "00VB_raEiX8d",
        "outputId": "a5b0f9ce-b8a7-4d6e-d739-1801b98f3114"
      },
      "outputs": [
        {
          "output_type": "execute_result",
          "data": {
            "text/plain": [
              "4.5"
            ]
          },
          "metadata": {},
          "execution_count": 2
        }
      ],
      "source": [
        "#Function Calls\n",
        "abs(-4.5)"
      ]
    },
    {
      "cell_type": "code",
      "source": [
        "#Function Calls other functions\n",
        "pow(abs(-2),round(4.5)) #pow(2,4)"
      ],
      "metadata": {
        "colab": {
          "base_uri": "https://localhost:8080/"
        },
        "id": "CWzb7Xu1jDv_",
        "outputId": "0e40e6b0-d160-4bed-babf-3279105bd2e1"
      },
      "execution_count": 3,
      "outputs": [
        {
          "output_type": "execute_result",
          "data": {
            "text/plain": [
              "16"
            ]
          },
          "metadata": {},
          "execution_count": 3
        }
      ]
    },
    {
      "cell_type": "code",
      "source": [
        "#Type code Function\n",
        "int(4.5)\n",
        "float(4)"
      ],
      "metadata": {
        "colab": {
          "base_uri": "https://localhost:8080/"
        },
        "id": "L0j-RWs8jSFV",
        "outputId": "389fb134-742a-4b04-99c1-166433004097"
      },
      "execution_count": 7,
      "outputs": [
        {
          "output_type": "execute_result",
          "data": {
            "text/plain": [
              "4.0"
            ]
          },
          "metadata": {},
          "execution_count": 7
        }
      ]
    },
    {
      "cell_type": "code",
      "source": [
        "#Defining own functions\n",
        "\n",
        "def convert_to_celcius(fahrenheit):\n",
        "  celcius = (fahrenheit-32)*5/9\n",
        "  return celcius\n",
        "\n",
        "fahrenheit=float(input(\"Enter temperature in fahrenheit: \"))\n",
        "\n",
        "f=convert_to_celcius(fahrenheit)\n",
        "print(round(f,2))"
      ],
      "metadata": {
        "colab": {
          "base_uri": "https://localhost:8080/"
        },
        "id": "KW08o12cj_D2",
        "outputId": "2e6996f7-c74d-4d6c-9640-7eeb786102db"
      },
      "execution_count": 12,
      "outputs": [
        {
          "output_type": "stream",
          "name": "stdout",
          "text": [
            "Enter temperature in fahrenheit: 100\n",
            "37.78\n"
          ]
        }
      ]
    }
  ]
}