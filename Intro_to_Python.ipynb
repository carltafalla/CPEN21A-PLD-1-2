{
  "nbformat": 4,
  "nbformat_minor": 0,
  "metadata": {
    "colab": {
      "provenance": [],
      "authorship_tag": "ABX9TyM0GG575/zUrTpgfWr7CrBj",
      "include_colab_link": true
    },
    "kernelspec": {
      "name": "python3",
      "display_name": "Python 3"
    },
    "language_info": {
      "name": "python"
    }
  },
  "cells": [
    {
      "cell_type": "markdown",
      "metadata": {
        "id": "view-in-github",
        "colab_type": "text"
      },
      "source": [
        "<a href=\"https://colab.research.google.com/github/carltafalla/CPEN21A-PLD-1-2/blob/main/Intro_to_Python.ipynb\" target=\"_parent\"><img src=\"https://colab.research.google.com/assets/colab-badge.svg\" alt=\"Open In Colab\"/></a>"
      ]
    },
    {
      "cell_type": "code",
      "execution_count": null,
      "metadata": {
        "id": "1IXlahYoeW6w"
      },
      "outputs": [],
      "source": []
    },
    {
      "cell_type": "markdown",
      "source": [
        " Indention"
      ],
      "metadata": {
        "id": "7wCkJzULea4l"
      }
    },
    {
      "cell_type": "code",
      "source": [
        "if 5>3:\n",
        "  print (\"5 is greater that 3\")  #This is a comment"
      ],
      "metadata": {
        "colab": {
          "base_uri": "https://localhost:8080/"
        },
        "id": "mMUaLZQfekNF",
        "outputId": "4cb6fbc0-cfc0-4fc3-f0bc-231d0da222d2"
      },
      "execution_count": 1,
      "outputs": [
        {
          "output_type": "stream",
          "name": "stdout",
          "text": [
            "5 is greater that 3\n"
          ]
        }
      ]
    },
    {
      "cell_type": "markdown",
      "source": [
        "Variable Declaration"
      ],
      "metadata": {
        "id": "ThjxIiXreyFW"
      }
    },
    {
      "cell_type": "code",
      "source": [
        "#variable with a single value\n",
        "x=5\n",
        "y=3\n",
        "if x<y:\n",
        "  print (\"x is greater than y\")\n",
        "else:\n",
        "  print (\"y is greater than x\")\n",
        "\n",
        "\n",
        "#variable with multiple values\n",
        "\n",
        "a,b = 1,2\n",
        "print (\"The value of a is:\",a)\n",
        "print (\"The value of b is:\",b)"
      ],
      "metadata": {
        "colab": {
          "base_uri": "https://localhost:8080/"
        },
        "id": "rfSnoxYve04R",
        "outputId": "76100c65-e248-499f-ba5a-6f551a39b535"
      },
      "execution_count": 2,
      "outputs": [
        {
          "output_type": "stream",
          "name": "stdout",
          "text": [
            "y is greater than x\n",
            "The value of a is: 1\n",
            "The value of b is: 2\n"
          ]
        }
      ]
    },
    {
      "cell_type": "markdown",
      "source": [
        "Casting and Type () Function"
      ],
      "metadata": {
        "id": "gr2k6MKKe6AL"
      }
    },
    {
      "cell_type": "code",
      "source": [
        "f = int(4)   #integer\n",
        "g=float(4)   #decimal/functional\n",
        "\n",
        "print(f)\n",
        "print(g)\n",
        "\n",
        "print(type(f))\n",
        "print(type(g))\n"
      ],
      "metadata": {
        "colab": {
          "base_uri": "https://localhost:8080/"
        },
        "id": "lMcQ7SVGe-SB",
        "outputId": "ede94fb0-8a6a-445d-f1aa-efead9cc8c3b"
      },
      "execution_count": 3,
      "outputs": [
        {
          "output_type": "stream",
          "name": "stdout",
          "text": [
            "4\n",
            "4.0\n",
            "<class 'int'>\n",
            "<class 'float'>\n"
          ]
        }
      ]
    },
    {
      "cell_type": "markdown",
      "source": [
        "Double quote and Single quote"
      ],
      "metadata": {
        "id": "gLYQB-eXfFc8"
      }
    },
    {
      "cell_type": "code",
      "source": [
        "name = \"Carl\"\n",
        "name1 = 'Lexster'\n",
        "name2 = 'Tafalla'\n",
        "\n",
        "print(name)\n",
        "print(name1)\n",
        "print(name2)"
      ],
      "metadata": {
        "colab": {
          "base_uri": "https://localhost:8080/"
        },
        "id": "3-km8uaUfJRS",
        "outputId": "dfdf9384-f9ed-4e56-8ed5-a929fcb1c0f0"
      },
      "execution_count": 4,
      "outputs": [
        {
          "output_type": "stream",
          "name": "stdout",
          "text": [
            "Carl\n",
            "Lexster\n",
            "Tafalla\n"
          ]
        }
      ]
    },
    {
      "cell_type": "markdown",
      "source": [
        "Case Sensitive"
      ],
      "metadata": {
        "id": "_x_104ZtfSYX"
      }
    },
    {
      "cell_type": "code",
      "source": [
        "a = 'Roll'\n",
        "print(a)"
      ],
      "metadata": {
        "colab": {
          "base_uri": "https://localhost:8080/"
        },
        "id": "8sUzKdA7fXUl",
        "outputId": "0b486de5-992a-4bc6-fc8f-cedcc6445c1b"
      },
      "execution_count": 5,
      "outputs": [
        {
          "output_type": "stream",
          "name": "stdout",
          "text": [
            "Roll\n"
          ]
        }
      ]
    }
  ]
}