{
  "nbformat": 4,
  "nbformat_minor": 0,
  "metadata": {
    "colab": {
      "provenance": [],
      "authorship_tag": "ABX9TyOJPHtHsaBa9sAJ4HPQh9eY",
      "include_colab_link": true
    },
    "kernelspec": {
      "name": "python3",
      "display_name": "Python 3"
    },
    "language_info": {
      "name": "python"
    }
  },
  "cells": [
    {
      "cell_type": "markdown",
      "metadata": {
        "id": "view-in-github",
        "colab_type": "text"
      },
      "source": [
        "<a href=\"https://colab.research.google.com/github/carltafalla/CPEN21A-PLD-1-2/blob/main/Python_Built_in_Data_Types.ipynb\" target=\"_parent\"><img src=\"https://colab.research.google.com/assets/colab-badge.svg\" alt=\"Open In Colab\"/></a>"
      ]
    },
    {
      "cell_type": "code",
      "execution_count": 9,
      "metadata": {
        "id": "e0ESi5Osn24I"
      },
      "outputs": [],
      "source": [
        "#Variables and Data Types\n",
        "\n",
        "#Numbers\n",
        "varNum = 123\n",
        "pi = 3.14259\n",
        "\n",
        "#String\n",
        "varString = \"Hello World\"\n",
        "varText = 'This is a string'\n",
        "\n",
        "#Lists\n",
        "varList = [\"abs\", 123]\n",
        "\n",
        "#Tuples\n",
        "varTuple = ('abc', 123,\"HELLO\")\n",
        "\n",
        "#Dictionaries\n",
        "var = 3\n",
        "varDict = {'first':1, '2':'2nd',3:var}\n",
        "varDict = {}\n",
        "varDict ['first']=1\n",
        "varDict['2'] = '2nd'\n",
        "varDict[3] = var"
      ]
    },
    {
      "cell_type": "code",
      "source": [
        "#Arithmetic\n",
        " \n",
        "#Addition\n",
        "a = 5 + 3\n",
        "\n",
        "#Subtraction\n",
        "b = 5 - 3\n",
        "\n",
        "#Multiplication\n",
        "c = 5 * 3\n",
        "\n",
        "#Exponent\n",
        "d = 5 ** 3\n",
        "\n",
        "#Division\n",
        "e = 5 / 3\n",
        "f = 5 % 3\n",
        "g = 5 // 3\n",
        "\n",
        "print (a,b,c,d,e,f,g)"
      ],
      "metadata": {
        "colab": {
          "base_uri": "https://localhost:8080/"
        },
        "id": "lvMKRqaRn5r2",
        "outputId": "f47e172d-6c45-4c19-94fa-bab08b13981d"
      },
      "execution_count": 8,
      "outputs": [
        {
          "output_type": "stream",
          "name": "stdout",
          "text": [
            "8 2 15 125 1.6666666666666667 2 1\n"
          ]
        }
      ]
    },
    {
      "cell_type": "code",
      "source": [
        "#Conditional Statements\n",
        "\n",
        "#Boolean Conditions\n",
        "x = True\n",
        "\n",
        "if x:\n",
        "  print (\"var x is True\")\n",
        "else:\n",
        "  print (\"var x is False\")\n",
        "\n",
        "#String Conditions \n",
        "x = 'Hello World!'\n",
        "if x=='Hello World!':\n",
        "  print (\"var x is Hello World!\")\n",
        "else:\n",
        "  print(\"var x is not Hello World!\")\n",
        "\n",
        "#Numwrical Condeitions\n",
        "x=10\n",
        "if x == '10':\n",
        "  print (\"var x is a string\")\n",
        "elif x == 10:\n",
        "  print(\"var x is an integer\")\n",
        "else:\n",
        "  print(\"var x is none of the above\")"
      ],
      "metadata": {
        "colab": {
          "base_uri": "https://localhost:8080/"
        },
        "id": "i2FlVk_en7cv",
        "outputId": "c10ad0ad-1328-4800-c691-b934db6fdd97"
      },
      "execution_count": 7,
      "outputs": [
        {
          "output_type": "stream",
          "name": "stdout",
          "text": [
            "var x is True\n",
            "var x is Hello World!\n",
            "var x is an integer\n"
          ]
        }
      ]
    },
    {
      "cell_type": "code",
      "source": [
        "#Loops\n",
        "\n",
        "#For Loops\n",
        "print (\"For Loops\")\n",
        "for var in range(0,5,2):\n",
        " print(var)\n",
        " \n",
        "#While Loops\n",
        "print(\"Wile Loops\")\n",
        "var = 0\n",
        "while var < 5:\n",
        "  print(var)\n",
        "  var +=2\n",
        "\n",
        "#Nested Loops\n",
        "print(\"Nested Loops\")\n",
        "x = 0 \n",
        "while x <5:\n",
        "  for y in range (0, x):\n",
        "    print(y, end='')\n",
        "  x+=1 \n",
        "  print()\n",
        "\n"
      ],
      "metadata": {
        "colab": {
          "base_uri": "https://localhost:8080/"
        },
        "id": "baLejMltn93V",
        "outputId": "28251d18-ca26-4ea8-e139-23045d587d54"
      },
      "execution_count": 6,
      "outputs": [
        {
          "output_type": "stream",
          "name": "stdout",
          "text": [
            "For Loops\n",
            "0\n",
            "2\n",
            "4\n",
            "Wile Loops\n",
            "0\n",
            "2\n",
            "4\n",
            "Nested Loops\n",
            "\n",
            "0\n",
            "01\n",
            "012\n",
            "0123\n"
          ]
        }
      ]
    },
    {
      "cell_type": "code",
      "source": [
        "#Functions\n",
        "\n",
        "def remainder(n,m):\n",
        "  while True:\n",
        "    if n - m < 0:\n",
        "      return n\n",
        "    else:\n",
        "      n = n - m\n",
        "  \n",
        "remainder(10,4)"
      ],
      "metadata": {
        "colab": {
          "base_uri": "https://localhost:8080/"
        },
        "id": "YDoZSIpOn_Vl",
        "outputId": "543a16a0-568d-4b06-eab8-827e136b147b"
      },
      "execution_count": 5,
      "outputs": [
        {
          "output_type": "execute_result",
          "data": {
            "text/plain": [
              "2"
            ]
          },
          "metadata": {},
          "execution_count": 5
        }
      ]
    },
    {
      "cell_type": "code",
      "source": [
        "#Lists\n",
        "\n",
        "pi = 3.14159\n",
        "varList = [1,2,'A', 'B','Hello!',pi]\n",
        "print(varList[0])\n",
        "\n",
        "print(varList[4])\n",
        "\n",
        "varList.append('World!')\n",
        "print(varList[6])\n",
        "\n",
        "len(varList)\n",
        "\n",
        "print(varList[5])\n",
        "\n",
        "varList.remove(pi)\n",
        "print(varList[5])"
      ],
      "metadata": {
        "colab": {
          "base_uri": "https://localhost:8080/"
        },
        "id": "7gtidEuroA3L",
        "outputId": "4a46c3ff-c888-403a-e288-8692a19fa8ff"
      },
      "execution_count": 4,
      "outputs": [
        {
          "output_type": "stream",
          "name": "stdout",
          "text": [
            "1\n",
            "Hello!\n",
            "World!\n",
            "3.14159\n",
            "World!\n"
          ]
        }
      ]
    },
    {
      "cell_type": "code",
      "source": [
        "#Dictionaries\n",
        "\n",
        "var = \"Hello World!\"\n",
        "varDict={'first': 123,2 : 'abc','3': var,4:['lista','listb']}\n",
        "print(varDict['first'])\n",
        "print(varDict[2])\n",
        "print (varDict['3'])\n",
        "print(varDict[4])\n",
        "print(varDict[4][1])\n",
        "len(varDict)\n"
      ],
      "metadata": {
        "colab": {
          "base_uri": "https://localhost:8080/"
        },
        "id": "7XPVB-NGoCWP",
        "outputId": "71d0b13c-024c-4bb4-f5a2-d019ebef8b97"
      },
      "execution_count": 3,
      "outputs": [
        {
          "output_type": "stream",
          "name": "stdout",
          "text": [
            "123\n",
            "abc\n",
            "Hello World!\n",
            "['lista', 'listb']\n",
            "listb\n"
          ]
        },
        {
          "output_type": "execute_result",
          "data": {
            "text/plain": [
              "4"
            ]
          },
          "metadata": {},
          "execution_count": 3
        }
      ]
    },
    {
      "cell_type": "code",
      "source": [
        "#List Generators and Comprehension\n",
        "\n",
        "def gen_num_up_to(n):\n",
        "  num = 0\n",
        "  while num < n:\n",
        "    yield num \n",
        "    num +=1 \n",
        "gen_num_up_to(5)\n",
        "\n",
        "varList = gen_num_up_to(5)\n",
        "print([var for var in varList])\n",
        "\n",
        "def gen_num_up_to(n):\n",
        "  num = 0\n",
        "  while num < n:\n",
        "    yield num\n",
        "    num+= 2\n",
        "\n",
        "varList = gen_num_up_to(5)\n",
        "print([var for var in varList])\n",
        "\n",
        "varList = range(0,5,2)\n",
        "print([var for var in varList])"
      ],
      "metadata": {
        "colab": {
          "base_uri": "https://localhost:8080/"
        },
        "id": "FYHBY6ikoD0X",
        "outputId": "3addeb5e-ba48-49a2-c41f-85212271f3fb"
      },
      "execution_count": 2,
      "outputs": [
        {
          "output_type": "stream",
          "name": "stdout",
          "text": [
            "[0, 1, 2, 3, 4]\n",
            "[0, 2, 4]\n",
            "[0, 2, 4]\n"
          ]
        }
      ]
    },
    {
      "cell_type": "code",
      "source": [
        "#Slicing\n",
        "\n",
        "varList = [1,2,3,4,5,6,7,8,9,10]\n",
        "print(varList[:5])      #end:\n",
        "\n",
        "print(varList[5:])      #start:\n",
        "\n",
        "print(varList[:-2])      \n",
        "\n",
        "print(varList[-2:])\n",
        "\n",
        "print(varList[2:-2])    #start:end\n",
        "\n",
        "print(varList[2:8:2])  #start:end:step"
      ],
      "metadata": {
        "colab": {
          "base_uri": "https://localhost:8080/"
        },
        "id": "j6IMI8_soFHd",
        "outputId": "01fa0674-e447-4511-b671-27bba4fffffc"
      },
      "execution_count": 1,
      "outputs": [
        {
          "output_type": "stream",
          "name": "stdout",
          "text": [
            "[1, 2, 3, 4, 5]\n",
            "[6, 7, 8, 9, 10]\n",
            "[1, 2, 3, 4, 5, 6, 7, 8]\n",
            "[9, 10]\n",
            "[3, 4, 5, 6, 7, 8]\n",
            "[3, 5, 7]\n"
          ]
        }
      ]
    }
  ]
}